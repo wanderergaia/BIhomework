{
 "cells": [
  {
   "cell_type": "markdown",
   "metadata": {},
   "source": [
    "# 股票回归分析：\n",
    "1、数据可视化\n",
    "2、特定股和上证综指每日收益率\n",
    "3、两个每日收益率之间的线性回归方程"
   ]
  },
  {
   "cell_type": "code",
   "execution_count": 1,
   "metadata": {},
   "outputs": [],
   "source": [
    "#-*- coding: utf-8 -*-\n",
    "\n",
    "#601606\n",
    "#600519\n",
    "\n",
    "import pandas as pd\n",
    "import tushare as ts\n",
    "from pandas import DataFrame\n",
    "import matplotlib.pyplot as plt\n",
    "import datetime"
   ]
  },
  {
   "cell_type": "code",
   "execution_count": 2,
   "metadata": {},
   "outputs": [],
   "source": [
    "from pylab import *\n",
    "mpl.rcParams['font.sans-serif'] = ['simhei']"
   ]
  },
  {
   "cell_type": "code",
   "execution_count": 3,
   "metadata": {},
   "outputs": [],
   "source": [
    "ziti = matplotlib.font_manager.FontProperties(fname='/Users/cdd/anaconda2/lib/python2.7/site-packages/matplotlib/mpl-data/fonts/ttf')"
   ]
  },
  {
   "cell_type": "code",
   "execution_count": 4,
   "metadata": {},
   "outputs": [
    {
     "name": "stdout",
     "output_type": "stream",
     "text": [
      "本接口即将停止更新，请尽快使用Pro版接口：https://tushare.pro/document/2\n"
     ]
    },
    {
     "data": {
      "text/html": [
       "<div>\n",
       "<style scoped>\n",
       "    .dataframe tbody tr th:only-of-type {\n",
       "        vertical-align: middle;\n",
       "    }\n",
       "\n",
       "    .dataframe tbody tr th {\n",
       "        vertical-align: top;\n",
       "    }\n",
       "\n",
       "    .dataframe thead th {\n",
       "        text-align: right;\n",
       "    }\n",
       "</style>\n",
       "<table border=\"1\" class=\"dataframe\">\n",
       "  <thead>\n",
       "    <tr style=\"text-align: right;\">\n",
       "      <th></th>\n",
       "      <th>open</th>\n",
       "      <th>high</th>\n",
       "      <th>close</th>\n",
       "      <th>low</th>\n",
       "      <th>volume</th>\n",
       "      <th>price_change</th>\n",
       "      <th>p_change</th>\n",
       "      <th>ma5</th>\n",
       "      <th>ma10</th>\n",
       "      <th>ma20</th>\n",
       "      <th>v_ma5</th>\n",
       "      <th>v_ma10</th>\n",
       "      <th>v_ma20</th>\n",
       "    </tr>\n",
       "    <tr>\n",
       "      <th>date</th>\n",
       "      <th></th>\n",
       "      <th></th>\n",
       "      <th></th>\n",
       "      <th></th>\n",
       "      <th></th>\n",
       "      <th></th>\n",
       "      <th></th>\n",
       "      <th></th>\n",
       "      <th></th>\n",
       "      <th></th>\n",
       "      <th></th>\n",
       "      <th></th>\n",
       "      <th></th>\n",
       "    </tr>\n",
       "  </thead>\n",
       "  <tbody>\n",
       "    <tr>\n",
       "      <th>2020-06-01</th>\n",
       "      <td>13.10</td>\n",
       "      <td>13.39</td>\n",
       "      <td>13.32</td>\n",
       "      <td>13.08</td>\n",
       "      <td>882960.56</td>\n",
       "      <td>0.32</td>\n",
       "      <td>2.46</td>\n",
       "      <td>13.086</td>\n",
       "      <td>13.158</td>\n",
       "      <td>13.404</td>\n",
       "      <td>636140.90</td>\n",
       "      <td>629064.44</td>\n",
       "      <td>693356.05</td>\n",
       "    </tr>\n",
       "    <tr>\n",
       "      <th>2020-05-29</th>\n",
       "      <td>13.01</td>\n",
       "      <td>13.04</td>\n",
       "      <td>13.00</td>\n",
       "      <td>12.92</td>\n",
       "      <td>457808.25</td>\n",
       "      <td>-0.07</td>\n",
       "      <td>-0.54</td>\n",
       "      <td>13.014</td>\n",
       "      <td>13.146</td>\n",
       "      <td>13.439</td>\n",
       "      <td>541582.95</td>\n",
       "      <td>604489.24</td>\n",
       "      <td>704644.14</td>\n",
       "    </tr>\n",
       "    <tr>\n",
       "      <th>2020-05-28</th>\n",
       "      <td>12.87</td>\n",
       "      <td>13.18</td>\n",
       "      <td>13.07</td>\n",
       "      <td>12.81</td>\n",
       "      <td>960760.31</td>\n",
       "      <td>0.29</td>\n",
       "      <td>2.27</td>\n",
       "      <td>12.998</td>\n",
       "      <td>13.169</td>\n",
       "      <td>13.465</td>\n",
       "      <td>621268.78</td>\n",
       "      <td>634387.86</td>\n",
       "      <td>720331.94</td>\n",
       "    </tr>\n",
       "    <tr>\n",
       "      <th>2020-05-27</th>\n",
       "      <td>13.05</td>\n",
       "      <td>13.19</td>\n",
       "      <td>13.00</td>\n",
       "      <td>12.96</td>\n",
       "      <td>482962.97</td>\n",
       "      <td>-0.04</td>\n",
       "      <td>-0.31</td>\n",
       "      <td>13.064</td>\n",
       "      <td>13.192</td>\n",
       "      <td>13.486</td>\n",
       "      <td>539579.11</td>\n",
       "      <td>632779.04</td>\n",
       "      <td>719135.42</td>\n",
       "    </tr>\n",
       "    <tr>\n",
       "      <th>2020-05-26</th>\n",
       "      <td>13.02</td>\n",
       "      <td>13.07</td>\n",
       "      <td>13.04</td>\n",
       "      <td>12.94</td>\n",
       "      <td>396212.41</td>\n",
       "      <td>0.08</td>\n",
       "      <td>0.62</td>\n",
       "      <td>13.166</td>\n",
       "      <td>13.255</td>\n",
       "      <td>13.498</td>\n",
       "      <td>581156.73</td>\n",
       "      <td>648518.62</td>\n",
       "      <td>723287.35</td>\n",
       "    </tr>\n",
       "  </tbody>\n",
       "</table>\n",
       "</div>"
      ],
      "text/plain": [
       "             open   high  close    low     volume  price_change  p_change  \\\n",
       "date                                                                        \n",
       "2020-06-01  13.10  13.39  13.32  13.08  882960.56          0.32      2.46   \n",
       "2020-05-29  13.01  13.04  13.00  12.92  457808.25         -0.07     -0.54   \n",
       "2020-05-28  12.87  13.18  13.07  12.81  960760.31          0.29      2.27   \n",
       "2020-05-27  13.05  13.19  13.00  12.96  482962.97         -0.04     -0.31   \n",
       "2020-05-26  13.02  13.07  13.04  12.94  396212.41          0.08      0.62   \n",
       "\n",
       "               ma5    ma10    ma20      v_ma5     v_ma10     v_ma20  \n",
       "date                                                                 \n",
       "2020-06-01  13.086  13.158  13.404  636140.90  629064.44  693356.05  \n",
       "2020-05-29  13.014  13.146  13.439  541582.95  604489.24  704644.14  \n",
       "2020-05-28  12.998  13.169  13.465  621268.78  634387.86  720331.94  \n",
       "2020-05-27  13.064  13.192  13.486  539579.11  632779.04  719135.42  \n",
       "2020-05-26  13.166  13.255  13.498  581156.73  648518.62  723287.35  "
      ]
     },
     "execution_count": 4,
     "metadata": {},
     "output_type": "execute_result"
    }
   ],
   "source": [
    "index = ts.get_hist_data('000001', start = '2020-01-01', end = '2020-06-01')\n",
    "index.head()"
   ]
  },
  {
   "cell_type": "code",
   "execution_count": 5,
   "metadata": {},
   "outputs": [
    {
     "name": "stdout",
     "output_type": "stream",
     "text": [
      "本接口即将停止更新，请尽快使用Pro版接口：https://tushare.pro/document/2\n"
     ]
    },
    {
     "data": {
      "text/html": [
       "<div>\n",
       "<style scoped>\n",
       "    .dataframe tbody tr th:only-of-type {\n",
       "        vertical-align: middle;\n",
       "    }\n",
       "\n",
       "    .dataframe tbody tr th {\n",
       "        vertical-align: top;\n",
       "    }\n",
       "\n",
       "    .dataframe thead th {\n",
       "        text-align: right;\n",
       "    }\n",
       "</style>\n",
       "<table border=\"1\" class=\"dataframe\">\n",
       "  <thead>\n",
       "    <tr style=\"text-align: right;\">\n",
       "      <th></th>\n",
       "      <th>open</th>\n",
       "      <th>high</th>\n",
       "      <th>close</th>\n",
       "      <th>low</th>\n",
       "      <th>volume</th>\n",
       "      <th>price_change</th>\n",
       "      <th>p_change</th>\n",
       "      <th>ma5</th>\n",
       "      <th>ma10</th>\n",
       "      <th>ma20</th>\n",
       "      <th>v_ma5</th>\n",
       "      <th>v_ma10</th>\n",
       "      <th>v_ma20</th>\n",
       "    </tr>\n",
       "    <tr>\n",
       "      <th>date</th>\n",
       "      <th></th>\n",
       "      <th></th>\n",
       "      <th></th>\n",
       "      <th></th>\n",
       "      <th></th>\n",
       "      <th></th>\n",
       "      <th></th>\n",
       "      <th></th>\n",
       "      <th></th>\n",
       "      <th></th>\n",
       "      <th></th>\n",
       "      <th></th>\n",
       "      <th></th>\n",
       "    </tr>\n",
       "  </thead>\n",
       "  <tbody>\n",
       "    <tr>\n",
       "      <th>2020-06-01</th>\n",
       "      <td>63.08</td>\n",
       "      <td>68.88</td>\n",
       "      <td>65.00</td>\n",
       "      <td>61.50</td>\n",
       "      <td>27259.19</td>\n",
       "      <td>1.87</td>\n",
       "      <td>2.96</td>\n",
       "      <td>64.132</td>\n",
       "      <td>65.158</td>\n",
       "      <td>61.147</td>\n",
       "      <td>27951.34</td>\n",
       "      <td>31567.25</td>\n",
       "      <td>34460.50</td>\n",
       "    </tr>\n",
       "    <tr>\n",
       "      <th>2020-05-29</th>\n",
       "      <td>59.60</td>\n",
       "      <td>66.60</td>\n",
       "      <td>63.13</td>\n",
       "      <td>58.68</td>\n",
       "      <td>34654.93</td>\n",
       "      <td>3.53</td>\n",
       "      <td>5.92</td>\n",
       "      <td>64.176</td>\n",
       "      <td>65.008</td>\n",
       "      <td>60.323</td>\n",
       "      <td>26713.93</td>\n",
       "      <td>32269.36</td>\n",
       "      <td>35419.71</td>\n",
       "    </tr>\n",
       "    <tr>\n",
       "      <th>2020-05-28</th>\n",
       "      <td>64.01</td>\n",
       "      <td>64.59</td>\n",
       "      <td>59.60</td>\n",
       "      <td>58.10</td>\n",
       "      <td>33682.60</td>\n",
       "      <td>-5.15</td>\n",
       "      <td>-7.95</td>\n",
       "      <td>64.648</td>\n",
       "      <td>65.280</td>\n",
       "      <td>59.485</td>\n",
       "      <td>28242.53</td>\n",
       "      <td>32298.16</td>\n",
       "      <td>35712.16</td>\n",
       "    </tr>\n",
       "    <tr>\n",
       "      <th>2020-05-27</th>\n",
       "      <td>68.50</td>\n",
       "      <td>68.79</td>\n",
       "      <td>64.75</td>\n",
       "      <td>63.92</td>\n",
       "      <td>21287.01</td>\n",
       "      <td>-3.43</td>\n",
       "      <td>-5.03</td>\n",
       "      <td>66.850</td>\n",
       "      <td>65.861</td>\n",
       "      <td>58.800</td>\n",
       "      <td>30469.95</td>\n",
       "      <td>33852.83</td>\n",
       "      <td>35538.83</td>\n",
       "    </tr>\n",
       "    <tr>\n",
       "      <th>2020-05-26</th>\n",
       "      <td>65.25</td>\n",
       "      <td>69.30</td>\n",
       "      <td>68.18</td>\n",
       "      <td>64.35</td>\n",
       "      <td>22872.95</td>\n",
       "      <td>2.96</td>\n",
       "      <td>4.54</td>\n",
       "      <td>66.880</td>\n",
       "      <td>66.116</td>\n",
       "      <td>57.885</td>\n",
       "      <td>31943.52</td>\n",
       "      <td>39651.89</td>\n",
       "      <td>36884.69</td>\n",
       "    </tr>\n",
       "  </tbody>\n",
       "</table>\n",
       "</div>"
      ],
      "text/plain": [
       "             open   high  close    low    volume  price_change  p_change  \\\n",
       "date                                                                       \n",
       "2020-06-01  63.08  68.88  65.00  61.50  27259.19          1.87      2.96   \n",
       "2020-05-29  59.60  66.60  63.13  58.68  34654.93          3.53      5.92   \n",
       "2020-05-28  64.01  64.59  59.60  58.10  33682.60         -5.15     -7.95   \n",
       "2020-05-27  68.50  68.79  64.75  63.92  21287.01         -3.43     -5.03   \n",
       "2020-05-26  65.25  69.30  68.18  64.35  22872.95          2.96      4.54   \n",
       "\n",
       "               ma5    ma10    ma20     v_ma5    v_ma10    v_ma20  \n",
       "date                                                              \n",
       "2020-06-01  64.132  65.158  61.147  27951.34  31567.25  34460.50  \n",
       "2020-05-29  64.176  65.008  60.323  26713.93  32269.36  35419.71  \n",
       "2020-05-28  64.648  65.280  59.485  28242.53  32298.16  35712.16  \n",
       "2020-05-27  66.850  65.861  58.800  30469.95  33852.83  35538.83  \n",
       "2020-05-26  66.880  66.116  57.885  31943.52  39651.89  36884.69  "
      ]
     },
     "execution_count": 5,
     "metadata": {},
     "output_type": "execute_result"
    }
   ],
   "source": [
    "maotai = ts.get_hist_data('688085', start = '2020-01-01', end = '2020-06-01')\n",
    "maotai.head()"
   ]
  },
  {
   "cell_type": "code",
   "execution_count": 6,
   "metadata": {},
   "outputs": [],
   "source": [
    "index.to_csv('index.csv')\n",
    "maotai.to_csv('maotai.csv')"
   ]
  },
  {
   "cell_type": "code",
   "execution_count": 7,
   "metadata": {},
   "outputs": [
    {
     "name": "stderr",
     "output_type": "stream",
     "text": [
      "findfont: Font family ['sans-serif'] not found. Falling back to DejaVu Sans.\n"
     ]
    },
    {
     "data": {
      "image/png": "[encoded data removed]",
      "text/plain": [
       "<Figure size 432x288 with 1 Axes>"
      ]
     },
     "metadata": {
      "needs_background": "light"
     },
     "output_type": "display_data"
    }
   ],
   "source": [
    "plt.plot(index['close'])\n",
    "plt.xlabel('shangzheng index')\n",
    "plt.ylabel('price')\n",
    "plt.show()"
   ]
  },
  {
   "cell_type": "code",
   "execution_count": 8,
   "metadata": {},
   "outputs": [
    {
     "data": {
      "image/png": "[encoded data removed]",
      "text/plain": [
       "<Figure size 432x288 with 1 Axes>"
      ]
     },
     "metadata": {
      "needs_background": "light"
     },
     "output_type": "display_data"
    }
   ],
   "source": [
    "plt.plot(maotai['close'])\n",
    "plt.xlabel('maotai')\n",
    "plt.ylabel('price')\n",
    "plt.show()"
   ]
  },
  {
   "cell_type": "code",
   "execution_count": 9,
   "metadata": {},
   "outputs": [
    {
     "data": {
      "text/html": [
       "<div>\n",
       "<style scoped>\n",
       "    .dataframe tbody tr th:only-of-type {\n",
       "        vertical-align: middle;\n",
       "    }\n",
       "\n",
       "    .dataframe tbody tr th {\n",
       "        vertical-align: top;\n",
       "    }\n",
       "\n",
       "    .dataframe thead th {\n",
       "        text-align: right;\n",
       "    }\n",
       "</style>\n",
       "<table border=\"1\" class=\"dataframe\">\n",
       "  <thead>\n",
       "    <tr style=\"text-align: right;\">\n",
       "      <th></th>\n",
       "      <th>Shangzheng Index</th>\n",
       "      <th>maotai</th>\n",
       "    </tr>\n",
       "    <tr>\n",
       "      <th>date</th>\n",
       "      <th></th>\n",
       "      <th></th>\n",
       "    </tr>\n",
       "  </thead>\n",
       "  <tbody>\n",
       "    <tr>\n",
       "      <th>2020-06-01</th>\n",
       "      <td>13.32</td>\n",
       "      <td>65.00</td>\n",
       "    </tr>\n",
       "    <tr>\n",
       "      <th>2020-05-29</th>\n",
       "      <td>13.00</td>\n",
       "      <td>63.13</td>\n",
       "    </tr>\n",
       "    <tr>\n",
       "      <th>2020-05-28</th>\n",
       "      <td>13.07</td>\n",
       "      <td>59.60</td>\n",
       "    </tr>\n",
       "    <tr>\n",
       "      <th>2020-05-27</th>\n",
       "      <td>13.00</td>\n",
       "      <td>64.75</td>\n",
       "    </tr>\n",
       "    <tr>\n",
       "      <th>2020-05-26</th>\n",
       "      <td>13.04</td>\n",
       "      <td>68.18</td>\n",
       "    </tr>\n",
       "    <tr>\n",
       "      <th>2020-05-25</th>\n",
       "      <td>12.96</td>\n",
       "      <td>65.22</td>\n",
       "    </tr>\n",
       "    <tr>\n",
       "      <th>2020-05-22</th>\n",
       "      <td>12.92</td>\n",
       "      <td>65.49</td>\n",
       "    </tr>\n",
       "    <tr>\n",
       "      <th>2020-05-21</th>\n",
       "      <td>13.40</td>\n",
       "      <td>70.61</td>\n",
       "    </tr>\n",
       "    <tr>\n",
       "      <th>2020-05-20</th>\n",
       "      <td>13.51</td>\n",
       "      <td>64.90</td>\n",
       "    </tr>\n",
       "    <tr>\n",
       "      <th>2020-05-19</th>\n",
       "      <td>13.36</td>\n",
       "      <td>64.70</td>\n",
       "    </tr>\n",
       "  </tbody>\n",
       "</table>\n",
       "</div>"
      ],
      "text/plain": [
       "            Shangzheng Index  maotai\n",
       "date                                \n",
       "2020-06-01             13.32   65.00\n",
       "2020-05-29             13.00   63.13\n",
       "2020-05-28             13.07   59.60\n",
       "2020-05-27             13.00   64.75\n",
       "2020-05-26             13.04   68.18\n",
       "2020-05-25             12.96   65.22\n",
       "2020-05-22             12.92   65.49\n",
       "2020-05-21             13.40   70.61\n",
       "2020-05-20             13.51   64.90\n",
       "2020-05-19             13.36   64.70"
      ]
     },
     "execution_count": 9,
     "metadata": {},
     "output_type": "execute_result"
    }
   ],
   "source": [
    "stock = pd.merge(index,maotai,left_index=True, right_index = True) \n",
    "stock = stock[['close_x','close_y']]\n",
    "stock.columns = ['Shangzheng Index','maotai']\n",
    "stock[:10]"
   ]
  },
  {
   "cell_type": "code",
   "execution_count": 10,
   "metadata": {},
   "outputs": [
    {
     "data": {
      "text/html": [
       "<div>\n",
       "<style scoped>\n",
       "    .dataframe tbody tr th:only-of-type {\n",
       "        vertical-align: middle;\n",
       "    }\n",
       "\n",
       "    .dataframe tbody tr th {\n",
       "        vertical-align: top;\n",
       "    }\n",
       "\n",
       "    .dataframe thead th {\n",
       "        text-align: right;\n",
       "    }\n",
       "</style>\n",
       "<table border=\"1\" class=\"dataframe\">\n",
       "  <thead>\n",
       "    <tr style=\"text-align: right;\">\n",
       "      <th></th>\n",
       "      <th>Shangzheng Index</th>\n",
       "      <th>maotai</th>\n",
       "    </tr>\n",
       "    <tr>\n",
       "      <th>date</th>\n",
       "      <th></th>\n",
       "      <th></th>\n",
       "    </tr>\n",
       "  </thead>\n",
       "  <tbody>\n",
       "    <tr>\n",
       "      <th>2020-05-29</th>\n",
       "      <td>-0.024024</td>\n",
       "      <td>-0.028769</td>\n",
       "    </tr>\n",
       "    <tr>\n",
       "      <th>2020-05-28</th>\n",
       "      <td>0.005385</td>\n",
       "      <td>-0.055916</td>\n",
       "    </tr>\n",
       "    <tr>\n",
       "      <th>2020-05-27</th>\n",
       "      <td>-0.005356</td>\n",
       "      <td>0.086409</td>\n",
       "    </tr>\n",
       "    <tr>\n",
       "      <th>2020-05-26</th>\n",
       "      <td>0.003077</td>\n",
       "      <td>0.052973</td>\n",
       "    </tr>\n",
       "    <tr>\n",
       "      <th>2020-05-25</th>\n",
       "      <td>-0.006135</td>\n",
       "      <td>-0.043414</td>\n",
       "    </tr>\n",
       "    <tr>\n",
       "      <th>2020-05-22</th>\n",
       "      <td>-0.003086</td>\n",
       "      <td>0.004140</td>\n",
       "    </tr>\n",
       "    <tr>\n",
       "      <th>2020-05-21</th>\n",
       "      <td>0.037152</td>\n",
       "      <td>0.078180</td>\n",
       "    </tr>\n",
       "    <tr>\n",
       "      <th>2020-05-20</th>\n",
       "      <td>0.008209</td>\n",
       "      <td>-0.080867</td>\n",
       "    </tr>\n",
       "    <tr>\n",
       "      <th>2020-05-19</th>\n",
       "      <td>-0.011103</td>\n",
       "      <td>-0.003082</td>\n",
       "    </tr>\n",
       "    <tr>\n",
       "      <th>2020-05-18</th>\n",
       "      <td>-0.011976</td>\n",
       "      <td>-0.018547</td>\n",
       "    </tr>\n",
       "  </tbody>\n",
       "</table>\n",
       "</div>"
      ],
      "text/plain": [
       "            Shangzheng Index    maotai\n",
       "date                                  \n",
       "2020-05-29         -0.024024 -0.028769\n",
       "2020-05-28          0.005385 -0.055916\n",
       "2020-05-27         -0.005356  0.086409\n",
       "2020-05-26          0.003077  0.052973\n",
       "2020-05-25         -0.006135 -0.043414\n",
       "2020-05-22         -0.003086  0.004140\n",
       "2020-05-21          0.037152  0.078180\n",
       "2020-05-20          0.008209 -0.080867\n",
       "2020-05-19         -0.011103 -0.003082\n",
       "2020-05-18         -0.011976 -0.018547"
      ]
     },
     "execution_count": 10,
     "metadata": {},
     "output_type": "execute_result"
    }
   ],
   "source": [
    "daily_return = (stock.diff()/stock.shift(periods = 1)).dropna()\n",
    "daily_return[:10]"
   ]
  },
  {
   "cell_type": "code",
   "execution_count": 11,
   "metadata": {
    "scrolled": true
   },
   "outputs": [
    {
     "name": "stderr",
     "output_type": "stream",
     "text": [
      "findfont: Font family ['sans-serif'] not found. Falling back to DejaVu Sans.\n"
     ]
    },
    {
     "data": {
      "image/png": "[encoded data removed]",
      "text/plain": [
       "<Figure size 1080x432 with 2 Axes>"
      ]
     },
     "metadata": {
      "needs_background": "light"
     },
     "output_type": "display_data"
    }
   ],
   "source": [
    "\n",
    "fig,ax = plt.subplots(1,2,figsize=(15,6))\n",
    "\n",
    "daily_return['Shangzheng Index'].plot(ax=ax[0])\n",
    "ax[0].set_title('Shangzheng Index')\n",
    "\n",
    "daily_return['maotai'].plot(ax=ax[1])\n",
    "ax[1].set_title('maotai')\n",
    "\n",
    "plt.show()"
   ]
  },
  {
   "cell_type": "code",
   "execution_count": 12,
   "metadata": {},
   "outputs": [
    {
     "data": {
      "text/plain": [
       "<matplotlib.collections.PathCollection at 0x11dd237d0>"
      ]
     },
     "execution_count": 12,
     "metadata": {},
     "output_type": "execute_result"
    },
    {
     "data": {
      "image/png": "[encoded data removed]",
      "text/plain": [
       "<Figure size 864x432 with 1 Axes>"
      ]
     },
     "metadata": {
      "needs_background": "light"
     },
     "output_type": "display_data"
    }
   ],
   "source": [
    "fig.axs = plt.subplots(1,1,figsize=(12,6))\n",
    "plt.scatter(daily_return['Shangzheng Index'],daily_return['maotai'])"
   ]
  },
  {
   "cell_type": "code",
   "execution_count": 13,
   "metadata": {},
   "outputs": [
    {
     "name": "stdout",
     "output_type": "stream",
     "text": [
      "                            OLS Regression Results                            \n",
      "==============================================================================\n",
      "Dep. Variable:                 maotai   R-squared:                       0.007\n",
      "Model:                            OLS   Adj. R-squared:                 -0.024\n",
      "Method:                 Least Squares   F-statistic:                    0.2143\n",
      "Date:                Thu, 18 Jun 2020   Prob (F-statistic):              0.647\n",
      "Time:                        02:52:00   Log-Likelihood:                 50.562\n",
      "No. Observations:                  34   AIC:                            -97.12\n",
      "Df Residuals:                      32   BIC:                            -94.07\n",
      "Df Model:                           1                                         \n",
      "Covariance Type:            nonrobust                                         \n",
      "====================================================================================\n",
      "                       coef    std err          t      P>|t|      [0.025      0.975]\n",
      "------------------------------------------------------------------------------------\n",
      "Shangzheng Index     0.2865      0.619      0.463      0.647      -0.974       1.547\n",
      "intercept           -0.0153      0.010     -1.579      0.124      -0.035       0.004\n",
      "==============================================================================\n",
      "Omnibus:                        6.061   Durbin-Watson:                   1.733\n",
      "Prob(Omnibus):                  0.048   Jarque-Bera (JB):                4.478\n",
      "Skew:                          -0.776   Prob(JB):                        0.107\n",
      "Kurtosis:                       3.867   Cond. No.                         64.0\n",
      "==============================================================================\n",
      "\n",
      "Warnings:\n",
      "[1] Standard Errors assume that the covariance matrix of the errors is correctly specified.\n"
     ]
    }
   ],
   "source": [
    "#回归\n",
    "import statsmodels.api as sm\n",
    "daily_return['intercept']=1.0\n",
    "model = sm.OLS(daily_return['maotai'],daily_return[['Shangzheng Index','intercept']])\n",
    "results = model.fit()\n",
    "print(results.summary())"
   ]
  },
  {
   "cell_type": "code",
   "execution_count": null,
   "metadata": {},
   "outputs": [],
   "source": []
  },
  {
   "cell_type": "code",
   "execution_count": null,
   "metadata": {},
   "outputs": [],
   "source": []
  },
  {
   "cell_type": "code",
   "execution_count": null,
   "metadata": {},
   "outputs": [],
   "source": []
  },
  {
   "cell_type": "code",
   "execution_count": null,
   "metadata": {},
   "outputs": [],
   "source": []
  },
  {
   "cell_type": "code",
   "execution_count": null,
   "metadata": {},
   "outputs": [],
   "source": []
  },
  {
   "cell_type": "code",
   "execution_count": null,
   "metadata": {},
   "outputs": [],
   "source": []
  }
 ],
 "metadata": {
  "kernelspec": {
   "display_name": "Python 3",
   "language": "python",
   "name": "python3"
  },
  "language_info": {
   "codemirror_mode": {
    "name": "ipython",
    "version": 3
   },
   "file_extension": ".py",
   "mimetype": "text/x-python",
   "name": "python",
   "nbconvert_exporter": "python",
   "pygments_lexer": "ipython3",
   "version": "3.7.7"
  }
 },
 "nbformat": 4,
 "nbformat_minor": 2
}
