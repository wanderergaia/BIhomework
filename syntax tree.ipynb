{
 "cells": [
  {
   "cell_type": "markdown",
   "metadata": {},
   "source": [
    "# 第二节课作业"
   ]
  },
  {
   "cell_type": "markdown",
   "metadata": {},
   "source": [
    "Thinking1：在数据分析中，分类与回归的区别是什么\n",
    "\n",
    "分类的目的在于给对象按照其类别打上相应的标签再分门别类，而回归则是根据样本研究其两个（或多个）变量之间的依存关系，是对于其趋势的一个分析预测。\n",
    "回归是一种方法，既可以适用于分类问题，也可以适用于预测等其他方面。\n",
    "\n",
    "\n",
    "\n",
    "Thinking2：都有哪些常见的回归分析方法，评价指标是什么\n",
    "\n",
    "常见回归分析方法：线性回归、逻辑回归、多项式回归、岭回归、lasso回归\n",
    "评价指标：样本误差、均方误差、平均绝对误差、R方"
   ]
  },
  {
   "cell_type": "code",
   "execution_count": 1,
   "metadata": {},
   "outputs": [],
   "source": [
    "import random"
   ]
  },
  {
   "cell_type": "code",
   "execution_count": 7,
   "metadata": {},
   "outputs": [],
   "source": [
    "grammar = \"\"\"\n",
    "客服 => 寒暄 报数 询问 具体业务 结尾 \n",
    "报数 => 我是工号 数字 号 ,\n",
    "数字 => 单个数字 | 数字 单个数字 \n",
    "单个数字 => 1 | 2 | 3 | 4 | 5 | 6 | 7 | 8 | 9 \n",
    "寒暄 => 称谓 打招呼 | 打招呼\n",
    "称谓 => 人称 ,\n",
    "人称 => 先生 | 女士 | 小朋友\n",
    "打招呼 => 你好 | 您好 \n",
    "询问 => 请问你要 | 您需要\n",
    "具体业务 => 喝酒 | 打牌 | 打猎 | 赌博\n",
    "结尾 => 吗？\"\"\""
   ]
  },
  {
   "cell_type": "code",
   "execution_count": 9,
   "metadata": {},
   "outputs": [],
   "source": [
    "\n",
    "def getGrammarDict(gram, linesplit='\\n',gramsplit ='=>'):\n",
    "    result = {}\n",
    "    for line in gram.split(linesplit):\n",
    "        if not line.strip():\n",
    "            continue\n",
    "    expr,statemeent = line.split(gramsplit)\n",
    "    result[expr.strip()] = [i.split() for i in statement.split('|')]\n",
    "    return result\n",
    "\n",
    "#生成句子\n",
    "def generate(gramdict,target, isEgng = False):\n",
    "    if target not in gramdict:\n",
    "        return target\n",
    "    find = random.choice(gramdict[target])\n",
    "    blank = ''\n",
    "    \n",
    "    #如果是英文中间间隔为空格\n",
    "\n",
    "    if isEng:\n",
    "        blank=''\n",
    "    return blank.join(generate(gramdict,t,isEng)for t in find)\n",
    "    gramdict = getGrammarDict(grammar)\n",
    "    print(generate(gramdict,'客服'))\n",
    "    print(generate(gramdict,'客服',True))\n"
   ]
  },
  {
   "cell_type": "markdown",
   "metadata": {},
   "source": []
  },
  {
   "cell_type": "code",
   "execution_count": null,
   "metadata": {},
   "outputs": [],
   "source": []
  },
  {
   "cell_type": "code",
   "execution_count": null,
   "metadata": {},
   "outputs": [],
   "source": []
  },
  {
   "cell_type": "code",
   "execution_count": null,
   "metadata": {},
   "outputs": [],
   "source": []
  },
  {
   "cell_type": "code",
   "execution_count": null,
   "metadata": {},
   "outputs": [],
   "source": []
  },
  {
   "cell_type": "code",
   "execution_count": null,
   "metadata": {},
   "outputs": [],
   "source": []
  },
  {
   "cell_type": "code",
   "execution_count": null,
   "metadata": {},
   "outputs": [],
   "source": []
  },
  {
   "cell_type": "code",
   "execution_count": null,
   "metadata": {},
   "outputs": [],
   "source": []
  },
  {
   "cell_type": "code",
   "execution_count": null,
   "metadata": {},
   "outputs": [],
   "source": []
  },
  {
   "cell_type": "code",
   "execution_count": null,
   "metadata": {},
   "outputs": [],
   "source": []
  },
  {
   "cell_type": "code",
   "execution_count": null,
   "metadata": {},
   "outputs": [],
   "source": []
  }
 ],
 "metadata": {
  "kernelspec": {
   "display_name": "Python 3",
   "language": "python",
   "name": "python3"
  },
  "language_info": {
   "codemirror_mode": {
    "name": "ipython",
    "version": 3
   },
   "file_extension": ".py",
   "mimetype": "text/x-python",
   "name": "python",
   "nbconvert_exporter": "python",
   "pygments_lexer": "ipython3",
   "version": "3.7.7"
  }
 },
 "nbformat": 4,
 "nbformat_minor": 2
}
