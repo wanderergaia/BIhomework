{
 "cells": [
  {
   "cell_type": "markdown",
   "metadata": {},
   "source": [
    "# Action2 2-100之间偶数求和\n",
    "            "
   ]
  },
  {
   "cell_type": "code",
   "execution_count": 1,
   "metadata": {},
   "outputs": [],
   "source": [
    "sum([i for i in range(101) if i%2 == 0])"
   ]
  },
  {
   "cell_type": "markdown",
   "metadata": {},
   "source": [
    "其他方法"
   ]
  },
  {
   "cell_type": "code",
   "execution_count": 2,
   "metadata": {},
   "outputs": [],
   "source": [
    "sum = 0\n",
    "for i in range(1,101):\n",
    "    if i%2==0:\n",
    "        sum+=i\n",
    "print(sum)"
   ]
  },
  {
   "cell_type": "markdown",
   "metadata": {},
   "source": [
    "# Action 3 统计全班的信息"
   ]
  },
  {
   "cell_type": "code",
   "execution_count": 7,
   "metadata": {},
   "outputs": [
    {
     "name": "stdout",
     "output_type": "stream",
     "text": [
      "86.2\n",
      "83.0\n",
      "76.6\n",
      "68\n",
      "65\n",
      "30\n",
      "98\n",
      "96\n",
      "98\n",
      "10.961751684835777\n",
      "120.16\n",
      "11.099549540409287\n",
      "123.2\n",
      "24.24541193710678\n",
      "587.8399999999999\n",
      "[('LiuBei', 98, 96, 88), ('GuanYu', 95, 76, 98), ('XuZhu', 80, 90, 90), ('Dianwei', 90, 88, 77), ('ZhangFei', 68, 65, 30)]\n"
     ]
    }
   ],
   "source": [
    "import numpy as np\n",
    "\n",
    "\n",
    "info = np.dtype({\n",
    "    'names':['name','chinese','english','math'],\n",
    "    'formats':['S10','i','i','i']\n",
    "})\n",
    "\n",
    "\n",
    "grade = np.array([(\"ZhangFei\",68,65,30),(\"GuanYu\",95,76,98),\n",
    "                    (\"LiuBei\",98,96,88),(\"Dianwei\",90,88,77),\n",
    "                    (\"XuZhu\",80,90,90)],dtype=info)\n",
    "               \n",
    "chineses = grade['chinese']\n",
    "englishs = grade['english']\n",
    "maths = grade['math']\n",
    "\n",
    "# 平均成绩\n",
    "print(np.mean(chineses))\n",
    "print(np.mean(englishs))\n",
    "print(np.mean(maths))\n",
    "\n",
    "# 输出最小值和最大值\n",
    "print(np.amin(chineses))\n",
    "print(np.amin(englishs))\n",
    "print(np.amin(maths))\n",
    "print(np.amax(chineses))\n",
    "print(np.amax(englishs))\n",
    "print(np.amax(maths))\n",
    "\n",
    "# 计算方差和标准差\n",
    "stdchinese = np.array(chineses)\n",
    "print(np.std(stdchinese))\n",
    "print(np.var(stdchinese))\n",
    "stdenglish = np.array(englishs)\n",
    "print(np.std(stdenglish))\n",
    "print(np.var(stdenglish))\n",
    "stdmath = np.array(maths)\n",
    "print(np.std(stdmath))\n",
    "print(np.var(stdmath))\n",
    "\n",
    "#排序\n",
    "a = np.array([chineses,englishs,maths])\n",
    "ranking = sorted(grade,key=lambda x:x[1]+x[2]+x[3], reverse=True)\n",
    "print(ranking)"
   ]
  },
  {
   "cell_type": "code",
   "execution_count": null,
   "metadata": {},
   "outputs": [],
   "source": []
  }
 ],
 "metadata": {
  "kernelspec": {
   "display_name": "Python 2",
   "language": "python",
   "name": "python2"
  },
  "language_info": {
   "codemirror_mode": {
    "name": "ipython",
    "version": 2
   },
   "file_extension": ".py",
   "mimetype": "text/x-python",
   "name": "python",
   "nbconvert_exporter": "python",
   "pygments_lexer": "ipython2",
   "version": "2.7.15"
  }
 },
 "nbformat": 4,
 "nbformat_minor": 2
}
